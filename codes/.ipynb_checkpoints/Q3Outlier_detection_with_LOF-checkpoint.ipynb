{
 "cells": [
  {
   "cell_type": "code",
   "execution_count": 2,
   "metadata": {
    "collapsed": true
   },
   "outputs": [],
   "source": [
    "import pandas  as pd\n",
    "import numpy as np\n",
    "import matplotlib.pyplot as plt\n",
    "%matplotlib inline"
   ]
  },
  {
   "cell_type": "code",
   "execution_count": 3,
   "metadata": {},
   "outputs": [
    {
     "name": "stdout",
     "output_type": "stream",
     "text": [
      "(695, 6)\n"
     ]
    },
    {
     "data": {
      "text/html": [
       "<div>\n",
       "<table border=\"1\" class=\"dataframe\">\n",
       "  <thead>\n",
       "    <tr style=\"text-align: right;\">\n",
       "      <th></th>\n",
       "      <th>load_video</th>\n",
       "      <th>pause_video</th>\n",
       "      <th>play_video</th>\n",
       "      <th>seek_video</th>\n",
       "      <th>speed_change_video</th>\n",
       "      <th>stop_video</th>\n",
       "    </tr>\n",
       "    <tr>\n",
       "      <th>user_id</th>\n",
       "      <th></th>\n",
       "      <th></th>\n",
       "      <th></th>\n",
       "      <th></th>\n",
       "      <th></th>\n",
       "      <th></th>\n",
       "    </tr>\n",
       "  </thead>\n",
       "  <tbody>\n",
       "    <tr>\n",
       "      <th>0</th>\n",
       "      <td>2.0</td>\n",
       "      <td>1.0</td>\n",
       "      <td>4.0</td>\n",
       "      <td>1.0</td>\n",
       "      <td>0.0</td>\n",
       "      <td>1.0</td>\n",
       "    </tr>\n",
       "    <tr>\n",
       "      <th>1</th>\n",
       "      <td>6.0</td>\n",
       "      <td>14.0</td>\n",
       "      <td>14.0</td>\n",
       "      <td>0.0</td>\n",
       "      <td>0.0</td>\n",
       "      <td>1.0</td>\n",
       "    </tr>\n",
       "  </tbody>\n",
       "</table>\n",
       "</div>"
      ],
      "text/plain": [
       "         load_video  pause_video  play_video  seek_video  speed_change_video  \\\n",
       "user_id                                                                        \n",
       "0               2.0          1.0         4.0         1.0                 0.0   \n",
       "1               6.0         14.0        14.0         0.0                 0.0   \n",
       "\n",
       "         stop_video  \n",
       "user_id              \n",
       "0               1.0  \n",
       "1               1.0  "
      ]
     },
     "execution_count": 3,
     "metadata": {},
     "output_type": "execute_result"
    }
   ],
   "source": [
    "df = pd.read_csv('./Q2Q3_input.csv').set_index('user_id')\n",
    "print df.shape\n",
    "df.head(2)"
   ]
  },
  {
   "cell_type": "code",
   "execution_count": 5,
   "metadata": {
    "scrolled": false
   },
   "outputs": [
    {
     "name": "stdout",
     "output_type": "stream",
     "text": [
      "K =  2 , Using Manhattan  distance \n",
      " Top 5 outliers\n",
      "525    5.416667\n",
      "66     4.896008\n",
      "678    4.000000\n",
      "402    3.727273\n",
      "333    3.465476\n",
      "Name: lof, dtype: float64\n"
     ]
    }
   ],
   "source": [
    "def Manhattan_distance(node1,node2):\n",
    "    return abs(node1 - node2).sum()\n",
    "def Euclidean_distance(node1,node2):\n",
    "    return np.sqrt(np.square(node1 - node2).sum())\n",
    "\n",
    "def M_disMatrix(df):\n",
    "    df_np = np.array(df)\n",
    "    n = df.shape[0]\n",
    "    D = np.zeros([n,n])\n",
    "    for i in range(n):\n",
    "        for j in range(i,n):\n",
    "            D[i,j] = Manhattan_distance(df_np[i,:],df_np[j,:])\n",
    "            D[j,i] = D[i,j]\n",
    "    return D\n",
    "\n",
    "def E_disMatrix_method1(df): # for for loop\n",
    "    n = df.shape[0]\n",
    "    D = np.zeros([n,n])\n",
    "    for i in range(n):\n",
    "        for j in range(i,n):\n",
    "            D[i,j] = Euclidean_distance(df.iloc[i,:],df.iloc[j,:])\n",
    "            D[j,i] = D[i,j]\n",
    "    return D\n",
    "\n",
    "# sqrt(∑([a,b,c] - [d,e,f])**2) =sqrt ∑[a2-2ad+d2,b2-2be+e2,c2-2cf+f2] = sqrt∑ [a2+b2+c2-2(ad,be,fc) +d2+e2+f2]=sqrt N2.sum-2N*MT+M2.sum          \n",
    "def E_disMatrix_method2(df): #very fast Matrix\n",
    "    nodes = np.array(df)\n",
    "    n = df.shape[0]\n",
    "    MN = np.dot(nodes,nodes.T) \n",
    "    M2 = np.square(nodes).sum(axis = 1).reshape([1,n])\n",
    "    N2 = np.matrix(M2).T\n",
    "    return np.sqrt(M2 - 2*MN + N2)\n",
    "\n",
    "def lof(df,k):\n",
    "    dis_method = {'3':'Euclidean','2':'Manhattan'}\n",
    "    n = df.shape[0]\n",
    "    Nk = []\n",
    "    disk = []\n",
    "    lrdk = []\n",
    "    lof = []\n",
    "    \n",
    "    #step1 calculate all the distances  between each two datapoints\n",
    "    if k ==2:\n",
    "        DD = pd.DataFrame(M_disMatrix(df))\n",
    "    else:\n",
    "        DD = pd.DataFrame(E_disMatrix_method2(df))\n",
    "        \n",
    "    #Step 2: calculate all the distk(o)\n",
    "    for i in range(n):\n",
    "        disk.append(DD.iloc[i,:].sort_values().values[k])\n",
    "        \n",
    "    # Step 3: calculate all theNk(o)\n",
    "       \n",
    "        nk_indexs = list(DD.iloc[i,:]\\\n",
    "                                [DD.iloc[i,:]<=disk[i]]\\\n",
    "                                    .index)\n",
    "        nk_indexs.remove(i)\n",
    "        Nk.append(nk_indexs)\n",
    "        \n",
    "    # Step 4: calculate all the lrdk(o)--Local Reachability Density of o\n",
    "    for i in range(n): # lof of each point\n",
    "        reachdistk_list = []\n",
    "        for neighbour in Nk[i]:\n",
    "            reachdistk = max(disk[neighbour],DD[neighbour][i])\n",
    "            reachdistk_list.append(reachdistk)\n",
    "        lrdk.append(len(Nk[i])/sum(reachdistk_list))\n",
    "        \n",
    "    #Step 5: calculate all theLOFk(o)\n",
    "    for i in range(n):\n",
    "        lof.append(sum([lrdk[neighbour]/lrdk[i] for neighbour in Nk[i]])/len(Nk[i]))\n",
    "    lof = pd.DataFrame(lof,columns = ['lof'])\n",
    "    top5 = lof['lof'].sort_values(ascending=0)[:5]\n",
    "    print 'K = ',k,', Using',dis_method[str(k)],' distance \\n Top 5 outliers'\n",
    "    print top5\n",
    "#     return DD\n",
    "\n",
    "lof(df,k=2)"
   ]
  },
  {
   "cell_type": "code",
   "execution_count": null,
   "metadata": {
    "collapsed": true
   },
   "outputs": [],
   "source": []
  }
 ],
 "metadata": {
  "hide_input": false,
  "kernelspec": {
   "display_name": "Python 2",
   "language": "python",
   "name": "python2"
  },
  "language_info": {
   "codemirror_mode": {
    "name": "ipython",
    "version": 2
   },
   "file_extension": ".py",
   "mimetype": "text/x-python",
   "name": "python",
   "nbconvert_exporter": "python",
   "pygments_lexer": "ipython2",
   "version": "2.7.13"
  },
  "varInspector": {
   "cols": {
    "lenName": 16,
    "lenType": 16,
    "lenVar": 40
   },
   "kernels_config": {
    "python": {
     "delete_cmd_postfix": "",
     "delete_cmd_prefix": "del ",
     "library": "var_list.py",
     "varRefreshCmd": "print(var_dic_list())"
    },
    "r": {
     "delete_cmd_postfix": ") ",
     "delete_cmd_prefix": "rm(",
     "library": "var_list.r",
     "varRefreshCmd": "cat(var_dic_list()) "
    }
   },
   "types_to_exclude": [
    "module",
    "function",
    "builtin_function_or_method",
    "instance",
    "_Feature"
   ],
   "window_display": false
  }
 },
 "nbformat": 4,
 "nbformat_minor": 2
}
