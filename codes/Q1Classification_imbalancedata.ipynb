{
 "cells": [
  {
   "cell_type": "code",
   "execution_count": 1,
   "metadata": {
    "collapsed": true
   },
   "outputs": [],
   "source": [
    "import pandas  as pd\n",
    "import numpy as np\n",
    "import matplotlib.pyplot as plt\n",
    "%matplotlib inline"
   ]
  },
  {
   "cell_type": "code",
   "execution_count": 2,
   "metadata": {},
   "outputs": [
    {
     "data": {
      "text/html": [
       "<div>\n",
       "<table border=\"1\" class=\"dataframe\">\n",
       "  <thead>\n",
       "    <tr style=\"text-align: right;\">\n",
       "      <th></th>\n",
       "      <th>video_id</th>\n",
       "      <th>duration</th>\n",
       "    </tr>\n",
       "  </thead>\n",
       "  <tbody>\n",
       "    <tr>\n",
       "      <th>0</th>\n",
       "      <td>2ad9d36d334a204a8bec40476171688f</td>\n",
       "      <td>213.00</td>\n",
       "    </tr>\n",
       "    <tr>\n",
       "      <th>1</th>\n",
       "      <td>6b11f01854f0399d87789a6315571466</td>\n",
       "      <td>297.17</td>\n",
       "    </tr>\n",
       "  </tbody>\n",
       "</table>\n",
       "</div>"
      ],
      "text/plain": [
       "                           video_id  duration\n",
       "0  2ad9d36d334a204a8bec40476171688f    213.00\n",
       "1  6b11f01854f0399d87789a6315571466    297.17"
      ]
     },
     "execution_count": 2,
     "metadata": {},
     "output_type": "execute_result"
    }
   ],
   "source": [
    "dfv = pd.read_csv('./VideoInfo.csv')\n",
    "dfv.head(2)"
   ]
  },
  {
   "cell_type": "code",
   "execution_count": 3,
   "metadata": {
    "collapsed": true
   },
   "outputs": [],
   "source": [
    "tr_label = pd.read_csv('./TrainLabel.csv')\n",
    "tr_df = pd.read_csv('./TrainFeatures.csv')\n",
    "ts_df = pd.read_csv('./TestFeatures.csv')\n",
    "ts = pd.read_csv('./TestData.csv')"
   ]
  },
  {
   "cell_type": "markdown",
   "metadata": {},
   "source": [
    "# scan data"
   ]
  },
  {
   "cell_type": "code",
   "execution_count": 4,
   "metadata": {},
   "outputs": [
    {
     "data": {
      "text/html": [
       "<div>\n",
       "<table border=\"1\" class=\"dataframe\">\n",
       "  <thead>\n",
       "    <tr style=\"text-align: right;\">\n",
       "      <th></th>\n",
       "      <th>user_id</th>\n",
       "      <th>video_id</th>\n",
       "      <th>session</th>\n",
       "      <th>new_speed</th>\n",
       "      <th>old_speed</th>\n",
       "      <th>new_time</th>\n",
       "      <th>old_time</th>\n",
       "      <th>event_type</th>\n",
       "      <th>event_time</th>\n",
       "    </tr>\n",
       "  </thead>\n",
       "  <tbody>\n",
       "    <tr>\n",
       "      <th>0</th>\n",
       "      <td>ff930d24cbdeb11e6dde8ceb0da5ac64</td>\n",
       "      <td>1300c72423ed68023f9793fe9d024038</td>\n",
       "      <td>17e163d9ff1f6cc57ca6a7e47a2db93e</td>\n",
       "      <td>NaN</td>\n",
       "      <td>NaN</td>\n",
       "      <td>NaN</td>\n",
       "      <td>NaN</td>\n",
       "      <td>load_video</td>\n",
       "      <td>2015-03-30 12:31:27.727452</td>\n",
       "    </tr>\n",
       "    <tr>\n",
       "      <th>1</th>\n",
       "      <td>ff930d24cbdeb11e6dde8ceb0da5ac64</td>\n",
       "      <td>ae849c393655910a93279697dfd2f41d</td>\n",
       "      <td>17e163d9ff1f6cc57ca6a7e47a2db93e</td>\n",
       "      <td>NaN</td>\n",
       "      <td>NaN</td>\n",
       "      <td>NaN</td>\n",
       "      <td>NaN</td>\n",
       "      <td>load_video</td>\n",
       "      <td>2015-03-30 12:33:26.764407</td>\n",
       "    </tr>\n",
       "  </tbody>\n",
       "</table>\n",
       "</div>"
      ],
      "text/plain": [
       "                            user_id                          video_id  \\\n",
       "0  ff930d24cbdeb11e6dde8ceb0da5ac64  1300c72423ed68023f9793fe9d024038   \n",
       "1  ff930d24cbdeb11e6dde8ceb0da5ac64  ae849c393655910a93279697dfd2f41d   \n",
       "\n",
       "                            session  new_speed  old_speed  new_time  old_time  \\\n",
       "0  17e163d9ff1f6cc57ca6a7e47a2db93e        NaN        NaN       NaN       NaN   \n",
       "1  17e163d9ff1f6cc57ca6a7e47a2db93e        NaN        NaN       NaN       NaN   \n",
       "\n",
       "   event_type                  event_time  \n",
       "0  load_video  2015-03-30 12:31:27.727452  \n",
       "1  load_video  2015-03-30 12:33:26.764407  "
      ]
     },
     "execution_count": 4,
     "metadata": {},
     "output_type": "execute_result"
    }
   ],
   "source": [
    "tr_df.head(2)"
   ]
  },
  {
   "cell_type": "code",
   "execution_count": 5,
   "metadata": {},
   "outputs": [
    {
     "data": {
      "text/html": [
       "<div>\n",
       "<table border=\"1\" class=\"dataframe\">\n",
       "  <thead>\n",
       "    <tr style=\"text-align: right;\">\n",
       "      <th></th>\n",
       "      <th>user_id</th>\n",
       "      <th>grade</th>\n",
       "    </tr>\n",
       "  </thead>\n",
       "  <tbody>\n",
       "    <tr>\n",
       "      <th>0</th>\n",
       "      <td>bd4c9ab730f5513206b999ec0d90d1fb</td>\n",
       "      <td>0</td>\n",
       "    </tr>\n",
       "    <tr>\n",
       "      <th>1</th>\n",
       "      <td>d2a27e83d429f0dcae6b937cf440aeb1</td>\n",
       "      <td>0</td>\n",
       "    </tr>\n",
       "  </tbody>\n",
       "</table>\n",
       "</div>"
      ],
      "text/plain": [
       "                            user_id  grade\n",
       "0  bd4c9ab730f5513206b999ec0d90d1fb      0\n",
       "1  d2a27e83d429f0dcae6b937cf440aeb1      0"
      ]
     },
     "execution_count": 5,
     "metadata": {},
     "output_type": "execute_result"
    }
   ],
   "source": [
    "\n",
    "tr_label.head(2)"
   ]
  },
  {
   "cell_type": "code",
   "execution_count": 6,
   "metadata": {},
   "outputs": [
    {
     "data": {
      "text/html": [
       "<div>\n",
       "<table border=\"1\" class=\"dataframe\">\n",
       "  <thead>\n",
       "    <tr style=\"text-align: right;\">\n",
       "      <th></th>\n",
       "      <th>user_id</th>\n",
       "    </tr>\n",
       "  </thead>\n",
       "  <tbody>\n",
       "    <tr>\n",
       "      <th>0</th>\n",
       "      <td>2647c1dba23bc0e0f9cdf75339e120d2</td>\n",
       "    </tr>\n",
       "    <tr>\n",
       "      <th>1</th>\n",
       "      <td>d0921d442ee91b896ad95059d13df618</td>\n",
       "    </tr>\n",
       "  </tbody>\n",
       "</table>\n",
       "</div>"
      ],
      "text/plain": [
       "                            user_id\n",
       "0  2647c1dba23bc0e0f9cdf75339e120d2\n",
       "1  d0921d442ee91b896ad95059d13df618"
      ]
     },
     "execution_count": 6,
     "metadata": {},
     "output_type": "execute_result"
    }
   ],
   "source": [
    "ts.head(2)"
   ]
  },
  {
   "cell_type": "code",
   "execution_count": 7,
   "metadata": {},
   "outputs": [
    {
     "data": {
      "text/plain": [
       "((2048666, 9), (5050, 2))"
      ]
     },
     "execution_count": 7,
     "metadata": {},
     "output_type": "execute_result"
    }
   ],
   "source": [
    "tr_df.shape,tr_label.shape"
   ]
  },
  {
   "cell_type": "markdown",
   "metadata": {},
   "source": [
    "### null rate"
   ]
  },
  {
   "cell_type": "code",
   "execution_count": 8,
   "metadata": {},
   "outputs": [
    {
     "data": {
      "text/plain": [
       "user_id       0.000000\n",
       "video_id      0.000000\n",
       "session       0.000000\n",
       "new_speed     0.993472\n",
       "old_speed     0.993472\n",
       "new_time      0.837754\n",
       "old_time      0.837754\n",
       "event_type    0.000000\n",
       "event_time    0.000000\n",
       "dtype: float64"
      ]
     },
     "execution_count": 8,
     "metadata": {},
     "output_type": "execute_result"
    }
   ],
   "source": [
    "(tr_df.shape[0] - tr_df.count())/float(tr_df.shape[0])"
   ]
  },
  {
   "cell_type": "markdown",
   "metadata": {},
   "source": [
    "### shapes-test data"
   ]
  },
  {
   "cell_type": "code",
   "execution_count": 9,
   "metadata": {},
   "outputs": [
    {
     "data": {
      "text/plain": [
       "((514041, 9), (1293, 1))"
      ]
     },
     "execution_count": 9,
     "metadata": {},
     "output_type": "execute_result"
    }
   ],
   "source": [
    "ts_df.shape,ts.shape"
   ]
  },
  {
   "cell_type": "markdown",
   "metadata": {},
   "source": [
    "## label distribution"
   ]
  },
  {
   "cell_type": "code",
   "execution_count": 10,
   "metadata": {},
   "outputs": [
    {
     "data": {
      "text/plain": [
       "<matplotlib.axes._subplots.AxesSubplot at 0x11a7a3090>"
      ]
     },
     "execution_count": 10,
     "metadata": {},
     "output_type": "execute_result"
    },
    {
     "data": {
      "image/png": "[encoded data removed]",
      "text/plain": [
       "<matplotlib.figure.Figure at 0x10fe8e110>"
      ]
     },
     "metadata": {},
     "output_type": "display_data"
    }
   ],
   "source": [
    "tr_label.groupby('grade').count().plot(kind = 'bar')"
   ]
  },
  {
   "cell_type": "markdown",
   "metadata": {},
   "source": [
    "### tr_label.groupby('grade').count().plot(kind = 'bar')"
   ]
  },
  {
   "cell_type": "markdown",
   "metadata": {},
   "source": [
    "## Generate Features"
   ]
  },
  {
   "cell_type": "markdown",
   "metadata": {},
   "source": [
    "### vedio read times"
   ]
  },
  {
   "cell_type": "code",
   "execution_count": 11,
   "metadata": {},
   "outputs": [
    {
     "data": {
      "text/html": [
       "<div>\n",
       "<table border=\"1\" class=\"dataframe\">\n",
       "  <thead>\n",
       "    <tr style=\"text-align: right;\">\n",
       "      <th></th>\n",
       "      <th>watched_videos</th>\n",
       "    </tr>\n",
       "    <tr>\n",
       "      <th>user_id</th>\n",
       "      <th></th>\n",
       "    </tr>\n",
       "  </thead>\n",
       "  <tbody>\n",
       "    <tr>\n",
       "      <th>0005266eb37020aaa9d87eccc6d051b3</th>\n",
       "      <td>48</td>\n",
       "    </tr>\n",
       "    <tr>\n",
       "      <th>00283999ebb74c7052f962400b51af1b</th>\n",
       "      <td>63</td>\n",
       "    </tr>\n",
       "    <tr>\n",
       "      <th>003cb7ee2f970b407b0087075b41b608</th>\n",
       "      <td>14</td>\n",
       "    </tr>\n",
       "  </tbody>\n",
       "</table>\n",
       "</div>"
      ],
      "text/plain": [
       "                                  watched_videos\n",
       "user_id                                         \n",
       "0005266eb37020aaa9d87eccc6d051b3              48\n",
       "00283999ebb74c7052f962400b51af1b              63\n",
       "003cb7ee2f970b407b0087075b41b608              14"
      ]
     },
     "execution_count": 11,
     "metadata": {},
     "output_type": "execute_result"
    }
   ],
   "source": [
    "watched_videos =tr_df.groupby(['user_id']).agg({'video_id':lambda x:np.unique(x).shape[0]})\n",
    "watched_videos.columns = ['watched_videos']\n",
    "watched_videos.head(3)"
   ]
  },
  {
   "cell_type": "code",
   "execution_count": 12,
   "metadata": {},
   "outputs": [
    {
     "data": {
      "text/html": [
       "<div>\n",
       "<table border=\"1\" class=\"dataframe\">\n",
       "  <thead>\n",
       "    <tr style=\"text-align: right;\">\n",
       "      <th></th>\n",
       "      <th>watched_videos</th>\n",
       "    </tr>\n",
       "    <tr>\n",
       "      <th>user_id</th>\n",
       "      <th></th>\n",
       "    </tr>\n",
       "  </thead>\n",
       "  <tbody>\n",
       "    <tr>\n",
       "      <th>00069663a97a439538d04d3a7cd659a1</th>\n",
       "      <td>37</td>\n",
       "    </tr>\n",
       "    <tr>\n",
       "      <th>004fbc40e3999cb7575fce07a1fc8b7a</th>\n",
       "      <td>29</td>\n",
       "    </tr>\n",
       "  </tbody>\n",
       "</table>\n",
       "</div>"
      ],
      "text/plain": [
       "                                  watched_videos\n",
       "user_id                                         \n",
       "00069663a97a439538d04d3a7cd659a1              37\n",
       "004fbc40e3999cb7575fce07a1fc8b7a              29"
      ]
     },
     "execution_count": 12,
     "metadata": {},
     "output_type": "execute_result"
    }
   ],
   "source": [
    "xv =ts_df.groupby(['user_id']).agg({'video_id':lambda x:np.unique(x).shape[0]})\n",
    "xv.columns = ['watched_videos']\n",
    "xv.head(2)"
   ]
  },
  {
   "cell_type": "code",
   "execution_count": 13,
   "metadata": {},
   "outputs": [
    {
     "data": {
      "text/plain": [
       "<matplotlib.axes._subplots.AxesSubplot at 0x10ee6bd90>"
      ]
     },
     "execution_count": 13,
     "metadata": {},
     "output_type": "execute_result"
    },
    {
     "data": {
      "image/png": "[encoded data removed]",
      "text/plain": [
       "<matplotlib.figure.Figure at 0x10ee57a10>"
      ]
     },
     "metadata": {},
     "output_type": "display_data"
    }
   ],
   "source": [
    "watched_videos.reset_index().groupby('watched_videos').count().plot()"
   ]
  },
  {
   "cell_type": "markdown",
   "metadata": {},
   "source": [
    "### Time session"
   ]
  },
  {
   "cell_type": "code",
   "execution_count": 14,
   "metadata": {
    "scrolled": true
   },
   "outputs": [
    {
     "data": {
      "text/html": [
       "<div>\n",
       "<table border=\"1\" class=\"dataframe\">\n",
       "  <thead>\n",
       "    <tr style=\"text-align: right;\">\n",
       "      <th></th>\n",
       "      <th>session</th>\n",
       "    </tr>\n",
       "    <tr>\n",
       "      <th>user_id</th>\n",
       "      <th></th>\n",
       "    </tr>\n",
       "  </thead>\n",
       "  <tbody>\n",
       "    <tr>\n",
       "      <th>0005266eb37020aaa9d87eccc6d051b3</th>\n",
       "      <td>4</td>\n",
       "    </tr>\n",
       "  </tbody>\n",
       "</table>\n",
       "</div>"
      ],
      "text/plain": [
       "                                  session\n",
       "user_id                                  \n",
       "0005266eb37020aaa9d87eccc6d051b3        4"
      ]
     },
     "execution_count": 14,
     "metadata": {},
     "output_type": "execute_result"
    }
   ],
   "source": [
    "session_count = tr_df.groupby(['user_id']).agg({'session':lambda x:np.unique(x).shape[0]})\n",
    "session_count.head(1)"
   ]
  },
  {
   "cell_type": "code",
   "execution_count": 15,
   "metadata": {},
   "outputs": [
    {
     "data": {
      "text/html": [
       "<div>\n",
       "<table border=\"1\" class=\"dataframe\">\n",
       "  <thead>\n",
       "    <tr style=\"text-align: right;\">\n",
       "      <th></th>\n",
       "      <th>session</th>\n",
       "    </tr>\n",
       "    <tr>\n",
       "      <th>user_id</th>\n",
       "      <th></th>\n",
       "    </tr>\n",
       "  </thead>\n",
       "  <tbody>\n",
       "    <tr>\n",
       "      <th>00069663a97a439538d04d3a7cd659a1</th>\n",
       "      <td>3</td>\n",
       "    </tr>\n",
       "  </tbody>\n",
       "</table>\n",
       "</div>"
      ],
      "text/plain": [
       "                                  session\n",
       "user_id                                  \n",
       "00069663a97a439538d04d3a7cd659a1        3"
      ]
     },
     "execution_count": 15,
     "metadata": {},
     "output_type": "execute_result"
    }
   ],
   "source": [
    "xs = ts_df.groupby(['user_id']).agg({'session':lambda x:np.unique(x).shape[0]})\n",
    "xs.head(1)"
   ]
  },
  {
   "cell_type": "markdown",
   "metadata": {},
   "source": [
    "#### average actions/sesion"
   ]
  },
  {
   "cell_type": "code",
   "execution_count": 16,
   "metadata": {
    "scrolled": true
   },
   "outputs": [
    {
     "data": {
      "text/html": [
       "<div>\n",
       "<table border=\"1\" class=\"dataframe\">\n",
       "  <thead>\n",
       "    <tr style=\"text-align: right;\">\n",
       "      <th></th>\n",
       "      <th>avg_acts_sess</th>\n",
       "    </tr>\n",
       "    <tr>\n",
       "      <th>user_id</th>\n",
       "      <th></th>\n",
       "    </tr>\n",
       "  </thead>\n",
       "  <tbody>\n",
       "    <tr>\n",
       "      <th>0005266eb37020aaa9d87eccc6d051b3</th>\n",
       "      <td>39</td>\n",
       "    </tr>\n",
       "  </tbody>\n",
       "</table>\n",
       "</div>"
      ],
      "text/plain": [
       "                                  avg_acts_sess\n",
       "user_id                                        \n",
       "0005266eb37020aaa9d87eccc6d051b3             39"
      ]
     },
     "execution_count": 16,
     "metadata": {},
     "output_type": "execute_result"
    }
   ],
   "source": [
    "session_action_mean = tr_df.groupby(['user_id'])['event_type','session'].agg(lambda g:g['event_type'].count()/np.unique(g['session']).shape[0]).rename(columns={'event_type':'avg_acts_sess'})['avg_acts_sess']\n",
    "pd.DataFrame(session_action_mean).head(1)"
   ]
  },
  {
   "cell_type": "code",
   "execution_count": 17,
   "metadata": {},
   "outputs": [
    {
     "data": {
      "text/html": [
       "<div>\n",
       "<table border=\"1\" class=\"dataframe\">\n",
       "  <thead>\n",
       "    <tr style=\"text-align: right;\">\n",
       "      <th></th>\n",
       "      <th>avg_acts_sess</th>\n",
       "    </tr>\n",
       "    <tr>\n",
       "      <th>user_id</th>\n",
       "      <th></th>\n",
       "    </tr>\n",
       "  </thead>\n",
       "  <tbody>\n",
       "    <tr>\n",
       "      <th>00069663a97a439538d04d3a7cd659a1</th>\n",
       "      <td>113</td>\n",
       "    </tr>\n",
       "  </tbody>\n",
       "</table>\n",
       "</div>"
      ],
      "text/plain": [
       "                                  avg_acts_sess\n",
       "user_id                                        \n",
       "00069663a97a439538d04d3a7cd659a1            113"
      ]
     },
     "execution_count": 17,
     "metadata": {},
     "output_type": "execute_result"
    }
   ],
   "source": [
    "xsa_mean = ts_df.groupby(['user_id'])['event_type','session'].agg(lambda g:g['event_type'].count()/np.unique(g['session']).shape[0]).rename(columns={'event_type':'avg_acts_sess'})['avg_acts_sess']\n",
    "pd.DataFrame(xsa_mean).head(1)"
   ]
  },
  {
   "cell_type": "markdown",
   "metadata": {},
   "source": [
    "### time_scale_sum&skip_scale_videos"
   ]
  },
  {
   "cell_type": "code",
   "execution_count": 18,
   "metadata": {},
   "outputs": [
    {
     "data": {
      "text/html": [
       "<div>\n",
       "<table border=\"1\" class=\"dataframe\">\n",
       "  <thead>\n",
       "    <tr style=\"text-align: right;\">\n",
       "      <th></th>\n",
       "      <th>skip_scale_videos</th>\n",
       "    </tr>\n",
       "    <tr>\n",
       "      <th>user_id</th>\n",
       "      <th></th>\n",
       "    </tr>\n",
       "  </thead>\n",
       "  <tbody>\n",
       "    <tr>\n",
       "      <th>0005266eb37020aaa9d87eccc6d051b3</th>\n",
       "      <td>0.535259</td>\n",
       "    </tr>\n",
       "  </tbody>\n",
       "</table>\n",
       "</div>"
      ],
      "text/plain": [
       "                                  skip_scale_videos\n",
       "user_id                                            \n",
       "0005266eb37020aaa9d87eccc6d051b3           0.535259"
      ]
     },
     "execution_count": 18,
     "metadata": {},
     "output_type": "execute_result"
    }
   ],
   "source": [
    "time_scale_sum = tr_df.groupby(['user_id'])['old_time','new_time'].agg(lambda g: abs(g['new_time']- g['old_time']).sum()).rename(columns={'old_time':'time_scale_sum'})['time_scale_sum']\n",
    "time_scale_sum.head(1)\n",
    "skip_scale_videos = (time_scale_sum.values.reshape(5050,1)/watched_videos).rename(columns = {'watched_videos':'skip_scale_videos'})\n",
    "skip_scale_videos.head(1)"
   ]
  },
  {
   "cell_type": "code",
   "execution_count": 19,
   "metadata": {},
   "outputs": [
    {
     "data": {
      "text/plain": [
       "514041"
      ]
     },
     "execution_count": 19,
     "metadata": {},
     "output_type": "execute_result"
    }
   ],
   "source": [
    "ts_df.shape[0]"
   ]
  },
  {
   "cell_type": "code",
   "execution_count": 20,
   "metadata": {
    "scrolled": true
   },
   "outputs": [
    {
     "data": {
      "text/html": [
       "<div>\n",
       "<table border=\"1\" class=\"dataframe\">\n",
       "  <thead>\n",
       "    <tr style=\"text-align: right;\">\n",
       "      <th></th>\n",
       "      <th>skip_scale_videos</th>\n",
       "    </tr>\n",
       "    <tr>\n",
       "      <th>user_id</th>\n",
       "      <th></th>\n",
       "    </tr>\n",
       "  </thead>\n",
       "  <tbody>\n",
       "    <tr>\n",
       "      <th>00069663a97a439538d04d3a7cd659a1</th>\n",
       "      <td>72.794175</td>\n",
       "    </tr>\n",
       "  </tbody>\n",
       "</table>\n",
       "</div>"
      ],
      "text/plain": [
       "                                  skip_scale_videos\n",
       "user_id                                            \n",
       "00069663a97a439538d04d3a7cd659a1          72.794175"
      ]
     },
     "execution_count": 20,
     "metadata": {},
     "output_type": "execute_result"
    }
   ],
   "source": [
    "xt_sum = ts_df.groupby(['user_id'])['old_time','new_time'].agg(lambda g: abs(g['new_time']- g['old_time']).sum()).rename(columns={'old_time':'time_scale_sum'})['time_scale_sum']\n",
    "xt_sum.head(1)\n",
    "n=ts_df.shape[0]\n",
    "skip_scale_videos = (xt_sum.values.reshape(1293,1)/xv).rename(columns = {'watched_videos':'skip_scale_videos'})\n",
    "skip_scale_videos.head(1)"
   ]
  },
  {
   "cell_type": "markdown",
   "metadata": {},
   "source": [
    "### event types count"
   ]
  },
  {
   "cell_type": "code",
   "execution_count": 21,
   "metadata": {},
   "outputs": [
    {
     "data": {
      "text/html": [
       "<div>\n",
       "<table border=\"1\" class=\"dataframe\">\n",
       "  <thead>\n",
       "    <tr style=\"text-align: right;\">\n",
       "      <th></th>\n",
       "      <th></th>\n",
       "      <th>video_id</th>\n",
       "      <th>session</th>\n",
       "      <th>new_speed</th>\n",
       "      <th>old_speed</th>\n",
       "      <th>new_time</th>\n",
       "      <th>old_time</th>\n",
       "      <th>event_time</th>\n",
       "    </tr>\n",
       "    <tr>\n",
       "      <th>user_id</th>\n",
       "      <th>event_type</th>\n",
       "      <th></th>\n",
       "      <th></th>\n",
       "      <th></th>\n",
       "      <th></th>\n",
       "      <th></th>\n",
       "      <th></th>\n",
       "      <th></th>\n",
       "    </tr>\n",
       "  </thead>\n",
       "  <tbody>\n",
       "    <tr>\n",
       "      <th rowspan=\"4\" valign=\"top\">0005266eb37020aaa9d87eccc6d051b3</th>\n",
       "      <th>load_video</th>\n",
       "      <td>113</td>\n",
       "      <td>113</td>\n",
       "      <td>0</td>\n",
       "      <td>0</td>\n",
       "      <td>0</td>\n",
       "      <td>0</td>\n",
       "      <td>113</td>\n",
       "    </tr>\n",
       "    <tr>\n",
       "      <th>pause_video</th>\n",
       "      <td>16</td>\n",
       "      <td>16</td>\n",
       "      <td>0</td>\n",
       "      <td>0</td>\n",
       "      <td>0</td>\n",
       "      <td>0</td>\n",
       "      <td>16</td>\n",
       "    </tr>\n",
       "    <tr>\n",
       "      <th>play_video</th>\n",
       "      <td>19</td>\n",
       "      <td>19</td>\n",
       "      <td>0</td>\n",
       "      <td>0</td>\n",
       "      <td>0</td>\n",
       "      <td>0</td>\n",
       "      <td>19</td>\n",
       "    </tr>\n",
       "    <tr>\n",
       "      <th>seek_video</th>\n",
       "      <td>1</td>\n",
       "      <td>1</td>\n",
       "      <td>0</td>\n",
       "      <td>0</td>\n",
       "      <td>1</td>\n",
       "      <td>1</td>\n",
       "      <td>1</td>\n",
       "    </tr>\n",
       "  </tbody>\n",
       "</table>\n",
       "</div>"
      ],
      "text/plain": [
       "                                              video_id  session  new_speed  \\\n",
       "user_id                          event_type                                  \n",
       "0005266eb37020aaa9d87eccc6d051b3 load_video        113      113          0   \n",
       "                                 pause_video        16       16          0   \n",
       "                                 play_video         19       19          0   \n",
       "                                 seek_video          1        1          0   \n",
       "\n",
       "                                              old_speed  new_time  old_time  \\\n",
       "user_id                          event_type                                   \n",
       "0005266eb37020aaa9d87eccc6d051b3 load_video           0         0         0   \n",
       "                                 pause_video          0         0         0   \n",
       "                                 play_video           0         0         0   \n",
       "                                 seek_video           0         1         1   \n",
       "\n",
       "                                              event_time  \n",
       "user_id                          event_type               \n",
       "0005266eb37020aaa9d87eccc6d051b3 load_video          113  \n",
       "                                 pause_video          16  \n",
       "                                 play_video           19  \n",
       "                                 seek_video            1  "
      ]
     },
     "execution_count": 21,
     "metadata": {},
     "output_type": "execute_result"
    }
   ],
   "source": [
    "tr_df.groupby(['user_id','event_type']).count().head(4)"
   ]
  },
  {
   "cell_type": "code",
   "execution_count": 22,
   "metadata": {},
   "outputs": [
    {
     "data": {
      "text/html": [
       "<div>\n",
       "<table border=\"1\" class=\"dataframe\">\n",
       "  <thead>\n",
       "    <tr style=\"text-align: right;\">\n",
       "      <th>event_type</th>\n",
       "      <th>load_video</th>\n",
       "      <th>pause_video</th>\n",
       "      <th>play_video</th>\n",
       "      <th>seek_video</th>\n",
       "      <th>speed_change_video</th>\n",
       "      <th>stop_video</th>\n",
       "    </tr>\n",
       "    <tr>\n",
       "      <th>user_id</th>\n",
       "      <th></th>\n",
       "      <th></th>\n",
       "      <th></th>\n",
       "      <th></th>\n",
       "      <th></th>\n",
       "      <th></th>\n",
       "    </tr>\n",
       "  </thead>\n",
       "  <tbody>\n",
       "    <tr>\n",
       "      <th>0005266eb37020aaa9d87eccc6d051b3</th>\n",
       "      <td>113.0</td>\n",
       "      <td>16.0</td>\n",
       "      <td>19.0</td>\n",
       "      <td>1.0</td>\n",
       "      <td>0.0</td>\n",
       "      <td>8.0</td>\n",
       "    </tr>\n",
       "    <tr>\n",
       "      <th>00283999ebb74c7052f962400b51af1b</th>\n",
       "      <td>243.0</td>\n",
       "      <td>122.0</td>\n",
       "      <td>609.0</td>\n",
       "      <td>33.0</td>\n",
       "      <td>1.0</td>\n",
       "      <td>50.0</td>\n",
       "    </tr>\n",
       "    <tr>\n",
       "      <th>003cb7ee2f970b407b0087075b41b608</th>\n",
       "      <td>25.0</td>\n",
       "      <td>35.0</td>\n",
       "      <td>63.0</td>\n",
       "      <td>33.0</td>\n",
       "      <td>2.0</td>\n",
       "      <td>4.0</td>\n",
       "    </tr>\n",
       "    <tr>\n",
       "      <th>004cab314f7310363f7a802369867f9e</th>\n",
       "      <td>87.0</td>\n",
       "      <td>71.0</td>\n",
       "      <td>143.0</td>\n",
       "      <td>38.0</td>\n",
       "      <td>0.0</td>\n",
       "      <td>33.0</td>\n",
       "    </tr>\n",
       "    <tr>\n",
       "      <th>006c65a0946666507fd85ad824ff5909</th>\n",
       "      <td>133.0</td>\n",
       "      <td>208.0</td>\n",
       "      <td>257.0</td>\n",
       "      <td>44.0</td>\n",
       "      <td>0.0</td>\n",
       "      <td>48.0</td>\n",
       "    </tr>\n",
       "  </tbody>\n",
       "</table>\n",
       "</div>"
      ],
      "text/plain": [
       "event_type                        load_video  pause_video  play_video  \\\n",
       "user_id                                                                 \n",
       "0005266eb37020aaa9d87eccc6d051b3       113.0         16.0        19.0   \n",
       "00283999ebb74c7052f962400b51af1b       243.0        122.0       609.0   \n",
       "003cb7ee2f970b407b0087075b41b608        25.0         35.0        63.0   \n",
       "004cab314f7310363f7a802369867f9e        87.0         71.0       143.0   \n",
       "006c65a0946666507fd85ad824ff5909       133.0        208.0       257.0   \n",
       "\n",
       "event_type                        seek_video  speed_change_video  stop_video  \n",
       "user_id                                                                       \n",
       "0005266eb37020aaa9d87eccc6d051b3         1.0                 0.0         8.0  \n",
       "00283999ebb74c7052f962400b51af1b        33.0                 1.0        50.0  \n",
       "003cb7ee2f970b407b0087075b41b608        33.0                 2.0         4.0  \n",
       "004cab314f7310363f7a802369867f9e        38.0                 0.0        33.0  \n",
       "006c65a0946666507fd85ad824ff5909        44.0                 0.0        48.0  "
      ]
     },
     "execution_count": 22,
     "metadata": {},
     "output_type": "execute_result"
    }
   ],
   "source": [
    "event = tr_df.groupby(['user_id','event_type']).count()['video_id']\n",
    "user_events = event.unstack().fillna('0')\n",
    "# less improve by average\n",
    "for column in user_events.columns:\n",
    "    user_events[column] = user_events[column].astype('float',copy=True)\n",
    "# for i in user_events.index:\n",
    "#     user_events.loc[i,:] =  user_events.loc[i,:]/float(watched_videos.loc[i,'watched_videos'])\n",
    "\n",
    "user_events.head(5)"
   ]
  },
  {
   "cell_type": "code",
   "execution_count": 23,
   "metadata": {
    "collapsed": true
   },
   "outputs": [],
   "source": [
    "xe = ts_df.groupby(['user_id','event_type']).count()['video_id']\n",
    "user_xe = xe.unstack().fillna('0')\n",
    "# less improve by average\n",
    "# for column in user_events.columns:\n",
    "#     user_events[column] = user_events[column].astype('float',copy=True)\n",
    "# for i in user_events.index:\n",
    "#     user_events.loc[i,:] =  user_events.loc[i,:]/float(watched_videos.loc[i,'watched_videos'])\n"
   ]
  },
  {
   "cell_type": "markdown",
   "metadata": {},
   "source": [
    "## combine features"
   ]
  },
  {
   "cell_type": "code",
   "execution_count": 24,
   "metadata": {},
   "outputs": [
    {
     "name": "stdout",
     "output_type": "stream",
     "text": [
      "(5050, 9)\n"
     ]
    },
    {
     "data": {
      "text/html": [
       "<div>\n",
       "<table border=\"1\" class=\"dataframe\">\n",
       "  <thead>\n",
       "    <tr style=\"text-align: right;\">\n",
       "      <th></th>\n",
       "      <th>watched_videos</th>\n",
       "      <th>load_video</th>\n",
       "      <th>pause_video</th>\n",
       "      <th>play_video</th>\n",
       "      <th>seek_video</th>\n",
       "      <th>speed_change_video</th>\n",
       "      <th>stop_video</th>\n",
       "      <th>time_scale_sum</th>\n",
       "      <th>avg_acts_sess</th>\n",
       "    </tr>\n",
       "    <tr>\n",
       "      <th>user_id</th>\n",
       "      <th></th>\n",
       "      <th></th>\n",
       "      <th></th>\n",
       "      <th></th>\n",
       "      <th></th>\n",
       "      <th></th>\n",
       "      <th></th>\n",
       "      <th></th>\n",
       "      <th></th>\n",
       "    </tr>\n",
       "  </thead>\n",
       "  <tbody>\n",
       "    <tr>\n",
       "      <th>0005266eb37020aaa9d87eccc6d051b3</th>\n",
       "      <td>48</td>\n",
       "      <td>113.0</td>\n",
       "      <td>16.0</td>\n",
       "      <td>19.0</td>\n",
       "      <td>1.0</td>\n",
       "      <td>0.0</td>\n",
       "      <td>8.0</td>\n",
       "      <td>25.692416</td>\n",
       "      <td>39</td>\n",
       "    </tr>\n",
       "    <tr>\n",
       "      <th>00283999ebb74c7052f962400b51af1b</th>\n",
       "      <td>63</td>\n",
       "      <td>243.0</td>\n",
       "      <td>122.0</td>\n",
       "      <td>609.0</td>\n",
       "      <td>33.0</td>\n",
       "      <td>1.0</td>\n",
       "      <td>50.0</td>\n",
       "      <td>1736.581055</td>\n",
       "      <td>58</td>\n",
       "    </tr>\n",
       "  </tbody>\n",
       "</table>\n",
       "</div>"
      ],
      "text/plain": [
       "                                  watched_videos  load_video  pause_video  \\\n",
       "user_id                                                                     \n",
       "0005266eb37020aaa9d87eccc6d051b3              48       113.0         16.0   \n",
       "00283999ebb74c7052f962400b51af1b              63       243.0        122.0   \n",
       "\n",
       "                                  play_video  seek_video  speed_change_video  \\\n",
       "user_id                                                                        \n",
       "0005266eb37020aaa9d87eccc6d051b3        19.0         1.0                 0.0   \n",
       "00283999ebb74c7052f962400b51af1b       609.0        33.0                 1.0   \n",
       "\n",
       "                                  stop_video  time_scale_sum  avg_acts_sess  \n",
       "user_id                                                                      \n",
       "0005266eb37020aaa9d87eccc6d051b3         8.0       25.692416             39  \n",
       "00283999ebb74c7052f962400b51af1b        50.0     1736.581055             58  "
      ]
     },
     "execution_count": 24,
     "metadata": {},
     "output_type": "execute_result"
    }
   ],
   "source": [
    "features = watched_videos.join([user_events,time_scale_sum,session_action_mean])\n",
    "print features.shape\n",
    "features.head(2)"
   ]
  },
  {
   "cell_type": "code",
   "execution_count": 25,
   "metadata": {},
   "outputs": [
    {
     "data": {
      "text/html": [
       "<div>\n",
       "<table border=\"1\" class=\"dataframe\">\n",
       "  <thead>\n",
       "    <tr style=\"text-align: right;\">\n",
       "      <th></th>\n",
       "      <th>watched_videos</th>\n",
       "      <th>load_video</th>\n",
       "      <th>pause_video</th>\n",
       "      <th>play_video</th>\n",
       "      <th>seek_video</th>\n",
       "      <th>speed_change_video</th>\n",
       "      <th>stop_video</th>\n",
       "      <th>time_scale_sum</th>\n",
       "      <th>avg_acts_sess</th>\n",
       "    </tr>\n",
       "    <tr>\n",
       "      <th>user_id</th>\n",
       "      <th></th>\n",
       "      <th></th>\n",
       "      <th></th>\n",
       "      <th></th>\n",
       "      <th></th>\n",
       "      <th></th>\n",
       "      <th></th>\n",
       "      <th></th>\n",
       "      <th></th>\n",
       "    </tr>\n",
       "  </thead>\n",
       "  <tbody>\n",
       "    <tr>\n",
       "      <th>00069663a97a439538d04d3a7cd659a1</th>\n",
       "      <td>37</td>\n",
       "      <td>97.0</td>\n",
       "      <td>46</td>\n",
       "      <td>100</td>\n",
       "      <td>52</td>\n",
       "      <td>0</td>\n",
       "      <td>44</td>\n",
       "      <td>2693.384474</td>\n",
       "      <td>113</td>\n",
       "    </tr>\n",
       "    <tr>\n",
       "      <th>004fbc40e3999cb7575fce07a1fc8b7a</th>\n",
       "      <td>29</td>\n",
       "      <td>32.0</td>\n",
       "      <td>44</td>\n",
       "      <td>286</td>\n",
       "      <td>12</td>\n",
       "      <td>0</td>\n",
       "      <td>7</td>\n",
       "      <td>721.027000</td>\n",
       "      <td>47</td>\n",
       "    </tr>\n",
       "    <tr>\n",
       "      <th>00936d9181fad38deec90d2af5baf0a0</th>\n",
       "      <td>11</td>\n",
       "      <td>16.0</td>\n",
       "      <td>24</td>\n",
       "      <td>33</td>\n",
       "      <td>227</td>\n",
       "      <td>0</td>\n",
       "      <td>0</td>\n",
       "      <td>2640.164063</td>\n",
       "      <td>75</td>\n",
       "    </tr>\n",
       "    <tr>\n",
       "      <th>00a98ff25199a9bab6cb5954be4f6d27</th>\n",
       "      <td>19</td>\n",
       "      <td>45.0</td>\n",
       "      <td>31</td>\n",
       "      <td>45</td>\n",
       "      <td>7</td>\n",
       "      <td>23</td>\n",
       "      <td>14</td>\n",
       "      <td>285.530347</td>\n",
       "      <td>41</td>\n",
       "    </tr>\n",
       "    <tr>\n",
       "      <th>00b59133ff74f750038ac45cc8ab190d</th>\n",
       "      <td>25</td>\n",
       "      <td>58.0</td>\n",
       "      <td>45</td>\n",
       "      <td>77</td>\n",
       "      <td>28</td>\n",
       "      <td>0</td>\n",
       "      <td>26</td>\n",
       "      <td>864.244418</td>\n",
       "      <td>23</td>\n",
       "    </tr>\n",
       "  </tbody>\n",
       "</table>\n",
       "</div>"
      ],
      "text/plain": [
       "                                  watched_videos  load_video pause_video  \\\n",
       "user_id                                                                    \n",
       "00069663a97a439538d04d3a7cd659a1              37        97.0          46   \n",
       "004fbc40e3999cb7575fce07a1fc8b7a              29        32.0          44   \n",
       "00936d9181fad38deec90d2af5baf0a0              11        16.0          24   \n",
       "00a98ff25199a9bab6cb5954be4f6d27              19        45.0          31   \n",
       "00b59133ff74f750038ac45cc8ab190d              25        58.0          45   \n",
       "\n",
       "                                 play_video seek_video speed_change_video  \\\n",
       "user_id                                                                     \n",
       "00069663a97a439538d04d3a7cd659a1        100         52                  0   \n",
       "004fbc40e3999cb7575fce07a1fc8b7a        286         12                  0   \n",
       "00936d9181fad38deec90d2af5baf0a0         33        227                  0   \n",
       "00a98ff25199a9bab6cb5954be4f6d27         45          7                 23   \n",
       "00b59133ff74f750038ac45cc8ab190d         77         28                  0   \n",
       "\n",
       "                                 stop_video  time_scale_sum  avg_acts_sess  \n",
       "user_id                                                                     \n",
       "00069663a97a439538d04d3a7cd659a1         44     2693.384474            113  \n",
       "004fbc40e3999cb7575fce07a1fc8b7a          7      721.027000             47  \n",
       "00936d9181fad38deec90d2af5baf0a0          0     2640.164063             75  \n",
       "00a98ff25199a9bab6cb5954be4f6d27         14      285.530347             41  \n",
       "00b59133ff74f750038ac45cc8ab190d         26      864.244418             23  "
      ]
     },
     "execution_count": 25,
     "metadata": {},
     "output_type": "execute_result"
    }
   ],
   "source": [
    "x = xv.join([user_xe,xt_sum,xsa_mean])\n",
    "x.head()"
   ]
  },
  {
   "cell_type": "code",
   "execution_count": 26,
   "metadata": {},
   "outputs": [
    {
     "data": {
      "text/plain": [
       "(1293, 9)"
      ]
     },
     "execution_count": 26,
     "metadata": {},
     "output_type": "execute_result"
    }
   ],
   "source": [
    "x.shape"
   ]
  },
  {
   "cell_type": "code",
   "execution_count": 27,
   "metadata": {
    "collapsed": true
   },
   "outputs": [],
   "source": [
    "tr_y = tr_label.set_index('user_id').sort_index()"
   ]
  },
  {
   "cell_type": "markdown",
   "metadata": {},
   "source": [
    "# analysis data features \n"
   ]
  },
  {
   "cell_type": "code",
   "execution_count": 28,
   "metadata": {},
   "outputs": [
    {
     "data": {
      "text/html": [
       "<div>\n",
       "<table border=\"1\" class=\"dataframe\">\n",
       "  <thead>\n",
       "    <tr style=\"text-align: right;\">\n",
       "      <th></th>\n",
       "      <th>watched_videos</th>\n",
       "      <th>load_video</th>\n",
       "      <th>pause_video</th>\n",
       "      <th>play_video</th>\n",
       "      <th>seek_video</th>\n",
       "      <th>speed_change_video</th>\n",
       "      <th>stop_video</th>\n",
       "      <th>time_scale_sum</th>\n",
       "      <th>avg_acts_sess</th>\n",
       "    </tr>\n",
       "  </thead>\n",
       "  <tbody>\n",
       "    <tr>\n",
       "      <th>count</th>\n",
       "      <td>5050.000000</td>\n",
       "      <td>5050.000000</td>\n",
       "      <td>5050.000000</td>\n",
       "      <td>5050.000000</td>\n",
       "      <td>5050.000000</td>\n",
       "      <td>5050.000000</td>\n",
       "      <td>5050.000000</td>\n",
       "      <td>5050.000000</td>\n",
       "      <td>5050.000000</td>\n",
       "    </tr>\n",
       "    <tr>\n",
       "      <th>mean</th>\n",
       "      <td>30.450099</td>\n",
       "      <td>65.414257</td>\n",
       "      <td>78.906535</td>\n",
       "      <td>169.986139</td>\n",
       "      <td>65.819406</td>\n",
       "      <td>2.648119</td>\n",
       "      <td>22.901980</td>\n",
       "      <td>2017.604401</td>\n",
       "      <td>80.902376</td>\n",
       "    </tr>\n",
       "    <tr>\n",
       "      <th>std</th>\n",
       "      <td>19.112762</td>\n",
       "      <td>56.986753</td>\n",
       "      <td>154.592933</td>\n",
       "      <td>351.881698</td>\n",
       "      <td>139.012791</td>\n",
       "      <td>8.271460</td>\n",
       "      <td>37.041995</td>\n",
       "      <td>3355.208648</td>\n",
       "      <td>151.660457</td>\n",
       "    </tr>\n",
       "    <tr>\n",
       "      <th>min</th>\n",
       "      <td>1.000000</td>\n",
       "      <td>0.000000</td>\n",
       "      <td>0.000000</td>\n",
       "      <td>0.000000</td>\n",
       "      <td>0.000000</td>\n",
       "      <td>0.000000</td>\n",
       "      <td>0.000000</td>\n",
       "      <td>0.000000</td>\n",
       "      <td>1.000000</td>\n",
       "    </tr>\n",
       "    <tr>\n",
       "      <th>25%</th>\n",
       "      <td>14.000000</td>\n",
       "      <td>23.000000</td>\n",
       "      <td>11.000000</td>\n",
       "      <td>25.000000</td>\n",
       "      <td>4.000000</td>\n",
       "      <td>0.000000</td>\n",
       "      <td>4.000000</td>\n",
       "      <td>166.225690</td>\n",
       "      <td>24.000000</td>\n",
       "    </tr>\n",
       "    <tr>\n",
       "      <th>50%</th>\n",
       "      <td>26.000000</td>\n",
       "      <td>48.000000</td>\n",
       "      <td>36.000000</td>\n",
       "      <td>73.000000</td>\n",
       "      <td>22.000000</td>\n",
       "      <td>0.000000</td>\n",
       "      <td>15.000000</td>\n",
       "      <td>859.371884</td>\n",
       "      <td>47.000000</td>\n",
       "    </tr>\n",
       "    <tr>\n",
       "      <th>75%</th>\n",
       "      <td>46.000000</td>\n",
       "      <td>93.000000</td>\n",
       "      <td>88.000000</td>\n",
       "      <td>187.000000</td>\n",
       "      <td>70.000000</td>\n",
       "      <td>2.000000</td>\n",
       "      <td>35.000000</td>\n",
       "      <td>2417.048388</td>\n",
       "      <td>89.000000</td>\n",
       "    </tr>\n",
       "    <tr>\n",
       "      <th>max</th>\n",
       "      <td>63.000000</td>\n",
       "      <td>501.000000</td>\n",
       "      <td>3717.000000</td>\n",
       "      <td>9442.000000</td>\n",
       "      <td>3532.000000</td>\n",
       "      <td>211.000000</td>\n",
       "      <td>2031.000000</td>\n",
       "      <td>44081.477421</td>\n",
       "      <td>4494.000000</td>\n",
       "    </tr>\n",
       "  </tbody>\n",
       "</table>\n",
       "</div>"
      ],
      "text/plain": [
       "       watched_videos   load_video  pause_video   play_video   seek_video  \\\n",
       "count     5050.000000  5050.000000  5050.000000  5050.000000  5050.000000   \n",
       "mean        30.450099    65.414257    78.906535   169.986139    65.819406   \n",
       "std         19.112762    56.986753   154.592933   351.881698   139.012791   \n",
       "min          1.000000     0.000000     0.000000     0.000000     0.000000   \n",
       "25%         14.000000    23.000000    11.000000    25.000000     4.000000   \n",
       "50%         26.000000    48.000000    36.000000    73.000000    22.000000   \n",
       "75%         46.000000    93.000000    88.000000   187.000000    70.000000   \n",
       "max         63.000000   501.000000  3717.000000  9442.000000  3532.000000   \n",
       "\n",
       "       speed_change_video   stop_video  time_scale_sum  avg_acts_sess  \n",
       "count         5050.000000  5050.000000     5050.000000    5050.000000  \n",
       "mean             2.648119    22.901980     2017.604401      80.902376  \n",
       "std              8.271460    37.041995     3355.208648     151.660457  \n",
       "min              0.000000     0.000000        0.000000       1.000000  \n",
       "25%              0.000000     4.000000      166.225690      24.000000  \n",
       "50%              0.000000    15.000000      859.371884      47.000000  \n",
       "75%              2.000000    35.000000     2417.048388      89.000000  \n",
       "max            211.000000  2031.000000    44081.477421    4494.000000  "
      ]
     },
     "execution_count": 28,
     "metadata": {},
     "output_type": "execute_result"
    }
   ],
   "source": [
    "features.describe()"
   ]
  },
  {
   "cell_type": "markdown",
   "metadata": {},
   "source": [
    "## outliers detection"
   ]
  },
  {
   "cell_type": "code",
   "execution_count": 29,
   "metadata": {},
   "outputs": [
    {
     "name": "stdout",
     "output_type": "stream",
     "text": [
      "[-7.50659658 -6.31687538 -4.09972675 ..., -0.95480778 -0.95208827\n",
      " -0.94737616]\n",
      "features: (404, 9) from  (5050, 9)\n"
     ]
    }
   ],
   "source": [
    "from sklearn.neighbors import LocalOutlierFactor\n",
    "\n",
    "temp = features\n",
    "# print features.join(tr_label)\n",
    "# tr_label\n",
    "clf = LocalOutlierFactor(n_neighbors=30,contamination=0.08,p=2)\n",
    "outliers = clf.fit_predict(features)\n",
    "print np.sort(clf.negative_outlier_factor_)\n",
    "print 'features:',features[outliers ==-1].shape,'from ',features.shape\n",
    "# print features[outliers ==-1].index\n",
    "ff = features.drop(features[outliers ==-1].index)\n",
    "tr_y = tr_y.drop(features[outliers ==-1].index)\n",
    "features = ff"
   ]
  },
  {
   "cell_type": "code",
   "execution_count": 30,
   "metadata": {},
   "outputs": [
    {
     "data": {
      "text/plain": [
       "<matplotlib.axes._subplots.AxesSubplot at 0x107a47910>"
      ]
     },
     "execution_count": 30,
     "metadata": {},
     "output_type": "execute_result"
    },
    {
     "data": {
      "image/png": "[encoded data removed]",
      "text/plain": [
       "<matplotlib.figure.Figure at 0x10ef33a10>"
      ]
     },
     "metadata": {},
     "output_type": "display_data"
    }
   ],
   "source": [
    "features.plot(x='load_video',y='time_scale_sum',kind = 'scatter')"
   ]
  },
  {
   "cell_type": "code",
   "execution_count": 31,
   "metadata": {},
   "outputs": [
    {
     "data": {
      "text/plain": [
       "(4646, 9)"
      ]
     },
     "execution_count": 31,
     "metadata": {},
     "output_type": "execute_result"
    }
   ],
   "source": [
    "features.shapefeatures = temp\n",
    "features.shape"
   ]
  },
  {
   "cell_type": "code",
   "execution_count": 32,
   "metadata": {
    "scrolled": true
   },
   "outputs": [
    {
     "data": {
      "text/plain": [
       "(4646, 9)"
      ]
     },
     "execution_count": 32,
     "metadata": {},
     "output_type": "execute_result"
    }
   ],
   "source": [
    "ff.shape"
   ]
  },
  {
   "cell_type": "markdown",
   "metadata": {},
   "source": [
    "## Resample"
   ]
  },
  {
   "cell_type": "code",
   "execution_count": 33,
   "metadata": {},
   "outputs": [],
   "source": [
    "# from collections import Counter\n",
    "# from imblearn.combine import SMOTEENN\n",
    "# print('Resampled dataset shape {}'.format(Counter(tr_y)))\n",
    "# clf = SMOTEENN(random_state=0)\n",
    "# # clf = RandomOverSampler(random_state=2)\n",
    "# x_res, y_res = clf.fit_sample(features, tr_y.values)\n",
    "# print('Resampled dataset shape {}'.format(Counter(y_res)))\n",
    "# # print pd.DataFrame(x_res)\n",
    "# features=pd.DataFrame(x_res)\n",
    "# tr_y = pd.DataFrame(y_res)\n",
    "# -features.shape[0]/5"
   ]
  },
  {
   "cell_type": "markdown",
   "metadata": {},
   "source": [
    "## Training Process"
   ]
  },
  {
   "cell_type": "code",
   "execution_count": 34,
   "metadata": {
    "scrolled": false
   },
   "outputs": [
    {
     "name": "stderr",
     "output_type": "stream",
     "text": [
      "/Users/lucas/anaconda/lib/python2.7/site-packages/sklearn/utils/validation.py:547: DataConversionWarning: A column-vector y was passed when a 1d array was expected. Please change the shape of y to (n_samples, ), for example using ravel().\n",
      "  y = column_or_1d(y, warn=True)\n"
     ]
    },
    {
     "name": "stdout",
     "output_type": "stream",
     "text": [
      "Resampled dataset shape Counter({0: 3014, 1: 3014})\n",
      "cv accuracy: 0.950 +- 0.006\n",
      "xx number:  6028 True: 3014 False: 3014\n",
      "xxx number: 930 Ture: [179] False: [751]\n",
      "1 : 168.0 0:  762.0\n",
      "accuracy: 0.861290322581\n",
      "precision 0.644970414201 预测为1中的正确率\n",
      "recall 0.605555555556 真正的1中预测率\n",
      "0 acc: [ 0.92143808]\n",
      "1 acc: [ 0.60893855] recall\n"
     ]
    }
   ],
   "source": [
    "from sklearn.linear_model import LogisticRegression \n",
    "from sklearn.model_selection import cross_val_score\n",
    "from sklearn.ensemble import RandomForestClassifier,AdaBoostClassifier\n",
    "from sklearn import svm\n",
    "from sklearn.linear_model import SGDClassifier\n",
    "from sklearn.neural_network import MLPClassifier\n",
    "from imblearn.over_sampling import RandomOverSampler,ADASYN,SMOTE\n",
    "from imblearn.combine import SMOTEENN\n",
    "from collections import Counter\n",
    "# import xgboost as xgb\n",
    "\n",
    "split = -features.shape[0]/5\n",
    "xx = features.iloc[:split,:]\n",
    "yy = tr_y.iloc[:split,:].values\n",
    "xxx =  features.iloc[split:,:]\n",
    "yyy = tr_y.iloc[split:,:].values\n",
    "\n",
    "\n",
    "# >>>>>>>>>>>> ReSample    >>>>>>>>>>>>>>>>>>>>>\n",
    "\n",
    "# from collections import Counter\n",
    "# from imblearn.combine import SMOTEENN,SMOTETomek\n",
    "# print('Resampled dataset shape {}'.format(Counter(tr_y)))\n",
    "# clf = SMOTETomek(random_state=0)\n",
    "# # clf = RandomOverSampler(random_state=2)\n",
    "# x_res, y_res = clf.fit_sample(xx, yy)\n",
    "# print('Resampled dataset shape {}'.format(Counter(y_res)))\n",
    "# # print pd.DataFrame(x_res)\n",
    "# xx =x_res\n",
    "# yy =y_res\n",
    "\n",
    "\n",
    "ros = RandomOverSampler(random_state=200)\n",
    "# ros = SMOTE(random_state=200)\n",
    "# xx_temp, yy_temp = ros.fit_sample(xx, yy)\n",
    "xx, yy = ros.fit_sample(xx, yy)\n",
    "print('Resampled dataset shape {}'.format(Counter(yy)))\n",
    "\n",
    "\n",
    "# #combine\n",
    "# xx = np.concatenate((xx, xx_temp), axis=0)\n",
    "# yy = np.concatenate((yy, yy_temp), axis=0)\n",
    "\n",
    "# >>>>>>>>>>>> shuffle   >>>>>>>>>>>>>>>>>>>\n",
    "# ratio = 0.8\n",
    "# random_index = np.arange(features.shape[0])\n",
    "# np.random.shuffle(random_index)\n",
    "# features = features[random_index]\n",
    "# cut_num = np.int(0.8*features.shape[0])\n",
    "# x_features = features[]\n",
    "# val_features = \n",
    "# x_labels = \n",
    "# val_labels = \n",
    "\n",
    "# >>>>>>>>>>>> model selection >>>>>>>>>>>>>>>>>>>>>>\n",
    "# clf = svm.LinearSVC(class_weight={0:1,1:2}) # 0.673\n",
    "# clf = SGDClassifier(n_iter=100,alpha=0.0005)\n",
    "clf = RandomForestClassifier()#class_weight={0:1,1:1},max_depth=15,max_leaf_nodes=19\n",
    "# clf = MLPClassifier(hidden_layer_sizes=80,activation = 'relu',learning_rate='invscaling')\n",
    "# clf = LogisticRegression()\n",
    "# clf = AdaBoostClassifier()\n",
    "# clf = svm.SVC(kernel='linear', class_weight={1: 10})\n",
    "#>>>xgboost\n",
    "# param = {'max_depth':15, 'eta':0.2, 'silent':0, 'objective':'binary:logistic','min_child_weight':3,'gamma':11 }  \n",
    "# watchlist  = [(dtest,'eval'), (dtrain,'train')]  \n",
    "# # watchlist  = [(dtrain,'train')]  \n",
    "# num_round = 1\n",
    "# bst = xgb.train(param, xx, num_round, watchlist)  \n",
    "# # this is prediction  \n",
    "# preds = bst.predict(dtest)  \n",
    "# labels = dtest.get_label()\n",
    "\n",
    "# >>>>>>>>>>>> CV   >>>>>>>>>>>>>>>>>>>>>>>>>>>>>>\n",
    "\n",
    "scores = cross_val_score(clf,xx,yy,cv=5)\n",
    "print 'cv accuracy: %.3f +- %.3f' % (np.mean(scores),np.std(scores))\n",
    "# print ('error=%f' % ( sum(1 for i in range(len(preds)) if int(preds[i]>0.5)!=tr_label[i]) /float(len(preds))))\n",
    "# clf = LinearRegression()\n",
    "# # clf = Lasso(alpha=1)\n",
    "# # clf = LassoCV(alphas = [1, 2, 0.001, 0.0005,0.5])\n",
    "# clf.fit(features,tr_label) #转成列向量\n",
    "# test_y = clf.predict(test_x)\n",
    "# print('regression args:')\n",
    "# clf.coef_\n",
    "# print clf.get_params()\n",
    "# clf.feature_importances_\n",
    "# >>>>\n",
    "# scores = cross_val_score(clf,x_res,y_res,cv=10)\n",
    "# print 'all cv accuracy: %.3f +- %.3f' % (np.mean(scores),np.std(scores))\n",
    "\n",
    "# >>>>>>>>>>>> TR and TS  for all    >>>>>>>>>>>>>>>>>>>>>>>>>>>>>\n",
    "\n",
    "\n",
    "y = clf.fit(xx,yy)\n",
    "# preds = clf.predict(features[tr_y.grade>0.5])\n",
    "preds = clf.predict(xxx)\n",
    "# preds = clf.predict(xxx)\n",
    "\n",
    "def CorrectRate(result, label):\n",
    "    temp = {'TP':0.0,'TN':0.0,'FP':0.0,'FN':0.0}\n",
    "    for i in range(len(result)):\n",
    "        if label[i] == 1:\n",
    "            if result[i] == 1:\n",
    "                temp['TP'] +=1\n",
    "            else:\n",
    "                temp['FN'] +=1\n",
    "        else:\n",
    "            if result[i] == 0:\n",
    "                temp['TN'] +=1\n",
    "            else:\n",
    "                temp['FP'] +=1\n",
    "    return temp\n",
    "# print 'all rate:',CorrectRate(preds, tr_y[tr_y.grade>0.5].grade)\n",
    "eva = CorrectRate(preds, yyy)#tr_y.grade\n",
    "# print 'featues:',list(features.columns)\n",
    "print 'xx number: ',xx.shape[0],'True:',sum(yy),'False:',xx.shape[0]-sum(yy)\n",
    "print 'xxx number:',xxx.shape[0],'Ture:',sum(yyy),'False:',xxx.shape[0]-sum(yyy)\n",
    "print '1 :',eva['TP']+eva['FP'],'0: ',eva['TN']+eva['FN']\n",
    "print 'accuracy:',(eva['TP']+eva['TN'])/len(yyy)\n",
    "print 'precision',eva['TP']/(eva['TP']+eva['FP']+1),'预测为1中的正确率'\n",
    "print 'recall',eva['TP']/((eva['TP']+eva['FN'])+1),'真正的1中预测率'\n",
    "print '0 acc:',eva['TN']/(xxx.shape[0]-sum(yyy))\n",
    "print '1 acc:',eva['TP']/sum(yyy),'recall'"
   ]
  },
  {
   "cell_type": "code",
   "execution_count": 35,
   "metadata": {},
   "outputs": [
    {
     "name": "stdout",
     "output_type": "stream",
     "text": [
      "[0.30768764983093522, 0.19117362324273662, 0.073394382396739788, 0.049068820981971011, 0.045687163940099446, 0.022859757624537028, 0.15939239483180662, 0.060130634906160885, 0.090605572245013491]\n"
     ]
    }
   ],
   "source": [
    "print list(clf.feature_importances_)\n"
   ]
  },
  {
   "cell_type": "markdown",
   "metadata": {},
   "source": [
    "# Predict"
   ]
  },
  {
   "cell_type": "code",
   "execution_count": 36,
   "metadata": {},
   "outputs": [
    {
     "name": "stdout",
     "output_type": "stream",
     "text": [
      "Resampled dataset shape Counter({0: 3765, 1: 881})\n",
      "Resampled dataset shape Counter({0: 3765, 1: 3765})\n"
     ]
    }
   ],
   "source": [
    "ros = RandomOverSampler(random_state=200)\n",
    "print('Resampled dataset shape {}'.format(Counter(tr_y['grade'])))\n",
    "xx, yy = ros.fit_sample(features, tr_y)\n",
    "print('Resampled dataset shape {}'.format(Counter(yy)))\n",
    "clf = RandomForestClassifier()\n",
    "y = clf.fit(xx,yy)\n",
    "# preds = clf.predict(features[tr_y.grade>0.5])\n",
    "pre =clf.predict(x)"
   ]
  },
  {
   "cell_type": "code",
   "execution_count": 37,
   "metadata": {
    "scrolled": false
   },
   "outputs": [
    {
     "name": "stdout",
     "output_type": "stream",
     "text": [
      "250\n"
     ]
    },
    {
     "data": {
      "text/html": [
       "<div>\n",
       "<table border=\"1\" class=\"dataframe\">\n",
       "  <thead>\n",
       "    <tr style=\"text-align: right;\">\n",
       "      <th></th>\n",
       "      <th>user_id</th>\n",
       "      <th>grade</th>\n",
       "    </tr>\n",
       "  </thead>\n",
       "  <tbody>\n",
       "    <tr>\n",
       "      <th>0</th>\n",
       "      <td>00069663a97a439538d04d3a7cd659a1</td>\n",
       "      <td>0</td>\n",
       "    </tr>\n",
       "    <tr>\n",
       "      <th>1</th>\n",
       "      <td>004fbc40e3999cb7575fce07a1fc8b7a</td>\n",
       "      <td>0</td>\n",
       "    </tr>\n",
       "    <tr>\n",
       "      <th>2</th>\n",
       "      <td>00936d9181fad38deec90d2af5baf0a0</td>\n",
       "      <td>0</td>\n",
       "    </tr>\n",
       "  </tbody>\n",
       "</table>\n",
       "</div>"
      ],
      "text/plain": [
       "                            user_id  grade\n",
       "0  00069663a97a439538d04d3a7cd659a1      0\n",
       "1  004fbc40e3999cb7575fce07a1fc8b7a      0\n",
       "2  00936d9181fad38deec90d2af5baf0a0      0"
      ]
     },
     "execution_count": 37,
     "metadata": {},
     "output_type": "execute_result"
    }
   ],
   "source": [
    "out = pd.DataFrame(pre,index = x.index,columns = ['grade']).reset_index()\n",
    "print out['grade'].sum()\n",
    "out.head(3)"
   ]
  },
  {
   "cell_type": "code",
   "execution_count": 38,
   "metadata": {
    "collapsed": true
   },
   "outputs": [],
   "source": [
    "out.to_csv('A3_gluab_20454477_Q1prediction.csv',index = 0)"
   ]
  }
 ],
 "metadata": {
  "hide_input": false,
  "kernelspec": {
   "display_name": "Python 2",
   "language": "python",
   "name": "python2"
  },
  "language_info": {
   "codemirror_mode": {
    "name": "ipython",
    "version": 2
   },
   "file_extension": ".py",
   "mimetype": "text/x-python",
   "name": "python",
   "nbconvert_exporter": "python",
   "pygments_lexer": "ipython2",
   "version": "2.7.13"
  },
  "varInspector": {
   "cols": {
    "lenName": 16,
    "lenType": 16,
    "lenVar": 40
   },
   "kernels_config": {
    "python": {
     "delete_cmd_postfix": "",
     "delete_cmd_prefix": "del ",
     "library": "var_list.py",
     "varRefreshCmd": "print(var_dic_list())"
    },
    "r": {
     "delete_cmd_postfix": ") ",
     "delete_cmd_prefix": "rm(",
     "library": "var_list.r",
     "varRefreshCmd": "cat(var_dic_list()) "
    }
   },
   "types_to_exclude": [
    "module",
    "function",
    "builtin_function_or_method",
    "instance",
    "_Feature"
   ],
   "window_display": false
  }
 },
 "nbformat": 4,
 "nbformat_minor": 2
}
