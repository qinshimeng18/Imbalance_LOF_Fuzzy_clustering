{
 "cells": [
  {
   "cell_type": "code",
   "execution_count": 5,
   "metadata": {
    "collapsed": true
   },
   "outputs": [],
   "source": [
    "import pandas  as pd\n",
    "import numpy as np\n",
    "import matplotlib.pyplot as plt\n",
    "%matplotlib inline"
   ]
  },
  {
   "cell_type": "code",
   "execution_count": 6,
   "metadata": {},
   "outputs": [
    {
     "data": {
      "text/plain": [
       "load_video            float64\n",
       "pause_video           float64\n",
       "play_video            float64\n",
       "seek_video            float64\n",
       "speed_change_video    float64\n",
       "stop_video            float64\n",
       "dtype: object"
      ]
     },
     "execution_count": 6,
     "metadata": {},
     "output_type": "execute_result"
    }
   ],
   "source": [
    "df = pd.read_csv('./Q2Q3_input.csv').set_index('user_id')\n",
    "df.head(2)\n",
    "df.dtypes"
   ]
  },
  {
   "cell_type": "code",
   "execution_count": 7,
   "metadata": {
    "scrolled": false
   },
   "outputs": [
    {
     "name": "stdout",
     "output_type": "stream",
     "text": [
      "interations number: 29\n",
      "o sse: 1 iteration======\n",
      "SSE(p=1): 446507.094647\n",
      "c1: [  2.69041963   5.61486053  12.61423393   7.30839493   0.24305278\n",
      "   0.99537907]\n",
      "c2: [  2.98858857   7.42781115  17.13844811  10.41487571   0.23788657\n",
      "   1.00989487]\n",
      "2 iteration=====\n",
      "SSE(p=1): 415299.64096\n",
      "c1: [  2.50966266   4.80465069  10.40436458   5.69170016   0.20847102\n",
      "   0.94497617]\n",
      "c2: [  3.32834732   8.95352191  21.51862428  13.55877955   0.28751395\n",
      "   1.09991909]\n",
      "===========\n",
      "Final SSE  364790.565244\n",
      "c1: [ 2.40779443  4.18173286  8.56845482  4.47967262  0.22663779  0.91860717]\n",
      "c2: [  4.72741511  15.77470142  41.31131529  26.63004261   0.27119479\n",
      "   1.42013794]\n"
     ]
    }
   ],
   "source": [
    "## %time\n",
    "c1 =np.array([1,1,1,1,1,1])\n",
    "c2 = np.array([0,0,0,0,0,0])\n",
    "centroids = [[c1,c2]]\n",
    "SSE = []\n",
    "def update_dis(centroids):\n",
    "    return sum([sum(abs(centroids[-1][i]-centroids[-2][i])) for i in range(2)])\n",
    "def dis2(node,c):\n",
    "    return np.square(node - c).sum()\n",
    "for i in range(50):\n",
    "    distance2_M = []\n",
    "    partition_M = []\n",
    "# cal partition_M [c1....T,c2.....T]\n",
    "    for node in df.values:\n",
    "        node_c1_dis = dis2(node,centroids[-1][0])\n",
    "        node_c2_dis = dis2(node,centroids[-1][1])\n",
    "        distance2_M.append([node_c1_dis,node_c2_dis])\n",
    "        WiC1 = node_c2_dis/(node_c1_dis+node_c2_dis)\n",
    "        WiC2 = 1-WiC1\n",
    "        partition_M.append([WiC1,WiC2])\n",
    "    \n",
    "    distance2_M = np.array(distance2_M)\n",
    "    partition_M = np.array(partition_M)\n",
    "    partition_M_2 = np.square(partition_M)\n",
    "    \n",
    "# weight^2 * Xi /sum^2 --> new c1,c2\n",
    "    temp_c1 = pd.DataFrame(columns=range(df.shape[1]))\n",
    "    temp_c2 = pd.DataFrame(columns=range(df.shape[1]))\n",
    "    for column in range(df.shape[1]):\n",
    "        temp_c1[column] =  df.iloc[:,column]*partition_M_2[:,0]\n",
    "        temp_c2[column] =  df.iloc[:,column]*partition_M_2[:,1]\n",
    "    WiC1_square_sum = partition_M_2[:,0].sum()\n",
    "    WiC2_square_sum = partition_M_2[:,1].sum()\n",
    "    c1 = np.array([temp_c1.iloc[:,column].sum()/float(WiC1_square_sum) for column in range(temp_c1.shape[1])])\n",
    "    c2 = np.array([temp_c2.iloc[:,column].sum()/float(WiC2_square_sum) for column in range(temp_c1.shape[1])])\n",
    "    centroids.append([c1,c2])\n",
    "\n",
    "# calculate ∑o to new c1 c2 SSE \n",
    "    distance2_M = []\n",
    "    partition_M = []\n",
    "    for node in df.values:\n",
    "        node_c1_dis = dis2(node,centroids[-1][0])\n",
    "        node_c2_dis = dis2(node,centroids[-1][1])\n",
    "        distance2_M.append([node_c1_dis,node_c2_dis])\n",
    "        WiC1 = node_c2_dis/(node_c1_dis+node_c2_dis)\n",
    "        WiC2 = 1-WiC1\n",
    "        partition_M.append([WiC1,WiC2])\n",
    "    distance2_M = np.array(distance2_M)\n",
    "    partition_M = np.array(partition_M)\n",
    "    partition_M_2 = np.square(partition_M)\n",
    "    #     print '',sum(distance2_M)\n",
    "    SSE_c1 = sum(distance2_M[:,0]*partition_M[:,0])\n",
    "    SSE_c2 = sum(distance2_M[:,1]*partition_M[:,1])\n",
    "    #     print 'new center:',centroids[-1][0]\n",
    "    #     print SSE_c1,SSE_c2,SSE_c1+SSE_c2\n",
    "    SSE.append(SSE_c1+SSE_c2)\n",
    "    #     print 'distance:',update_dis(centroids)\n",
    "    if update_dis(centroids) < 0.001:\n",
    "        print 'interations number:',i+1\n",
    "        print 'o sse:',\n",
    "        print '1 iteration======'\n",
    "        print 'SSE(p=1):',SSE[0]\n",
    "        print 'c1:',centroids[1][0]\n",
    "        print 'c2:',centroids[1][1]\n",
    "        print '2 iteration====='\n",
    "        print 'SSE(p=1):',SSE[1]\n",
    "        print 'c1:',centroids[2][0]\n",
    "        print 'c2:',centroids[2][1]\n",
    "        print '==========='\n",
    "        print 'Final SSE ',SSE[-1]\n",
    "        print 'c1:',centroids[-1][0]\n",
    "        print 'c2:',centroids[-1][1]\n",
    "        break\n"
   ]
  },
  {
   "cell_type": "code",
   "execution_count": 8,
   "metadata": {
    "collapsed": true,
    "scrolled": false
   },
   "outputs": [],
   "source": [
    "# c1 =np.array([1,1,1,1,1,1])\n",
    "# c2 = np.array([0,0,0,0,0,0])\n",
    "# centroids = [[c1,c2]]\n",
    "# sum(abs(c1-c2))\n",
    "# np.square(np.array([1,2,3])-np.array([0,0,3]))\n",
    "# a=np.array([[1,2],[3,4]])\n",
    "# # a=pd.DataFrame([[1,2],[3,4]])\n",
    "# print 'a:\\n',a\n",
    "# print 'a[:][1]',a[:][1]\n",
    "# print '*',a[:][1]*a[:][1]\n",
    "# print 'dot',np.dot(a[:][1],a[:][1])\n",
    "# print 'mutiply',np.multiply(a[:][1],a[:][1])\n",
    "# print '--matrix---'\n",
    "# print '*',a*a\n",
    "# print 'dot',np.dot(a,a)\n",
    "# print 'mutiply',np.multiply(a,a)\n",
    "# print '-----22-21----'\n",
    "# print '*',a*a[:][1]\n",
    "# print 'dot',np.dot(a,a[:][1])\n",
    "# print 'mutiply',np.multiply(a,a[:][1])\n",
    "# print a,'*',a[:,1].reshape(2,1),'\\n==\\n',a*a[:,1].reshape(2,1)\n",
    "# print a,'*',a[:,1].T,'==\\n',a*a[:,1].T\n",
    "\n",
    "# print '-^2--\\n',a[:,1]*a[:,1]\n",
    "# print '-^2--\\n',a*a\n",
    "# a[:,1].shape"
   ]
  }
 ],
 "metadata": {
  "hide_input": false,
  "kernelspec": {
   "display_name": "Python 2",
   "language": "python",
   "name": "python2"
  },
  "language_info": {
   "codemirror_mode": {
    "name": "ipython",
    "version": 2
   },
   "file_extension": ".py",
   "mimetype": "text/x-python",
   "name": "python",
   "nbconvert_exporter": "python",
   "pygments_lexer": "ipython2",
   "version": "2.7.13"
  },
  "varInspector": {
   "cols": {
    "lenName": 16,
    "lenType": 16,
    "lenVar": 40
   },
   "kernels_config": {
    "python": {
     "delete_cmd_postfix": "",
     "delete_cmd_prefix": "del ",
     "library": "var_list.py",
     "varRefreshCmd": "print(var_dic_list())"
    },
    "r": {
     "delete_cmd_postfix": ") ",
     "delete_cmd_prefix": "rm(",
     "library": "var_list.r",
     "varRefreshCmd": "cat(var_dic_list()) "
    }
   },
   "types_to_exclude": [
    "module",
    "function",
    "builtin_function_or_method",
    "instance",
    "_Feature"
   ],
   "window_display": false
  }
 },
 "nbformat": 4,
 "nbformat_minor": 2
}
